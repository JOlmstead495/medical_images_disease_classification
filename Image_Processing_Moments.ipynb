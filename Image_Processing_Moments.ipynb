{
 "cells": [
  {
   "cell_type": "code",
   "execution_count": 15,
   "metadata": {},
   "outputs": [],
   "source": [
    "import numpy as np\n",
    "import cv2\n",
    "import os\n",
    "import pandas as pd\n",
    "np.set_printoptions(suppress=True)\n",
    "from matplotlib import pyplot as plt\n",
    "%matplotlib inline\n",
    "import time\n",
    "import re\n",
    "from sqlalchemy import create_engine\n",
    "from sqlalchemy import Table\n",
    "from sqlalchemy import Column\n",
    "from sqlalchemy import MetaData\n",
    "from sqlalchemy.dialects.postgresql import BYTEA\n",
    "from sqlalchemy import Integer,String\n",
    "from sqlalchemy import select\n",
    "import pickle\n",
    "import random\n",
    "import itertools\n",
    "import seaborn as sns\n",
    "from mlxtend.plotting import plot_decision_regions\n",
    "from mlxtend.plotting import category_scatter\n",
    "import mahotas\n",
    "##Sklearn (Model Imports)\n",
    "from sklearn.ensemble import VotingClassifier\n",
    "from sklearn.model_selection import train_test_split,KFold,StratifiedKFold,RandomizedSearchCV,GridSearchCV\n",
    "from sklearn.naive_bayes import GaussianNB\n",
    "from sklearn import datasets\n",
    "from sklearn.neighbors import KNeighborsClassifier\n",
    "from sklearn.linear_model import LogisticRegression\n",
    "from sklearn.metrics import precision_score, recall_score, precision_recall_curve, f1_score, roc_curve, auc\n",
    "from sklearn.metrics import accuracy_score, classification_report,roc_auc_score, confusion_matrix\n",
    "from sklearn.ensemble import RandomForestClassifier\n",
    "from sklearn.preprocessing import StandardScaler\n",
    "from sklearn.svm import LinearSVC,SVC\n",
    "import sklearn\n",
    "from sklearn import metrics\n",
    "import warnings\n",
    "warnings.filterwarnings('ignore')\n",
    "\n"
   ]
  },
  {
   "cell_type": "code",
   "execution_count": 1,
   "metadata": {},
   "outputs": [],
   "source": [
    "def crop_image(img,thresh=False):\n",
    "    '''\n",
    "    The function 1) initially crops an image 2) finds the centroid of the image and 3) further crops the image\n",
    "    based on it's centroid.\n",
    "    \n",
    "    Parameters:\n",
    "        img (numpy array): The medical image to be cropped.\n",
    "        thresh (boolean): Set thresh to True if you want to return the cropped binary image. False will return \n",
    "        the cropped regular image.\n",
    "        \n",
    "    Returns:\n",
    "        img: The cropped image or binary image depending on parameter thresh.\n",
    "        M: Moments calculated by using OpenCV's moments method.\n",
    "    \n",
    "    '''\n",
    "    shape=img.shape\n",
    "    y_crop=int(shape[0]/8)\n",
    "    x_crop=int(shape[1]/20)\n",
    "    img = img[y_crop:-y_crop,x_crop:-x_crop]\n",
    "    ret,thresh = cv2.threshold(img,127,255,0)\n",
    "    M = cv2.moments(thresh)\n",
    "    cX = int(M[\"m10\"] / M[\"m00\"])\n",
    "    cY = int(M[\"m01\"] / M[\"m00\"])\n",
    "    top_y=int(cY/2)\n",
    "    bot_y=int(((img.shape[0]-cY)/2)+cY)\n",
    "    if thresh:\n",
    "        img = thresh[top_y:bot_y,0:img.shape[1]]\n",
    "    else:\n",
    "        img = img[top_y:bot_y,0:img.shape[1]]\n",
    "    return img,M"
   ]
  },
  {
   "cell_type": "code",
   "execution_count": 7,
   "metadata": {},
   "outputs": [],
   "source": [
    "def horiz_structure(img):\n",
    "        '''\n",
    "    The function calculates the horizontal structures that exist within the image. It then returns mean of horizontal\n",
    "    structures divided by the number of pixels on the x axis.\n",
    "    \n",
    "    Parameters:\n",
    "        img (numpy array): The medical image to be cropped.\n",
    "\n",
    "    Returns:\n",
    "        horizontal value (int): The mean of the horizontal structures found divided by the number of pixels on the x axis.\n",
    "    \n",
    "    '''\n",
    "    horiz = np.copy(img)\n",
    "    horiz_col = horiz.shape[1]\n",
    "    horiz_size = int(horiz_col / 20)\n",
    "    horiz_Structure = cv2.getStructuringElement(cv2.MORPH_RECT, (horiz_size,1))\n",
    "    horiz = cv2.erode(horiz, horiz_Structure)\n",
    "    horiz = cv2.dilate(horiz, horiz_Structure)\n",
    "    return np.mean(horiz)/horiz_col"
   ]
  },
  {
   "cell_type": "markdown",
   "metadata": {},
   "source": [
    "# Set Up Alchemy Engine"
   ]
  },
  {
   "cell_type": "code",
   "execution_count": 8,
   "metadata": {},
   "outputs": [],
   "source": [
    "engine_aws = create_engine('postgresql://**ec2IP**/project03',echo=False)\n"
   ]
  },
  {
   "cell_type": "markdown",
   "metadata": {},
   "source": [
    "# Create Regex To Pull Directory Name In"
   ]
  },
  {
   "cell_type": "code",
   "execution_count": 9,
   "metadata": {},
   "outputs": [],
   "source": [
    "# Create regex to pull in directory name but without backslash\n",
    "dis_regex=re.compile(r'\\W')"
   ]
  },
  {
   "cell_type": "markdown",
   "metadata": {},
   "source": [
    "# Set Up Columns List"
   ]
  },
  {
   "cell_type": "code",
   "execution_count": 10,
   "metadata": {},
   "outputs": [],
   "source": [
    "col=['Hu1','Hu2','Hu3','Hu4','Hu5','Hu6','Hu7','Horiz_Structure']\n",
    "\n",
    "for i in range(1,26):\n",
    "    col=np.append(col,'Znk'+str(i))\n",
    "\n",
    "col=np.append(col,\"Class\")\n",
    "col = tuple(col)"
   ]
  },
  {
   "cell_type": "markdown",
   "metadata": {},
   "source": [
    "# Create DataFrame with a Better Cropped Data, and run moments on it"
   ]
  },
  {
   "cell_type": "code",
   "execution_count": 16,
   "metadata": {
    "scrolled": true
   },
   "outputs": [
    {
     "name": "stdout",
     "output_type": "stream",
     "text": [
      "/home/ec2-user/data/OCT2017/train/DRUSEN/DRUSEN-2141150-28.jpeg\n",
      "1000\n",
      "/home/ec2-user/data/OCT2017/train/DRUSEN/DRUSEN-5969577-6.jpeg\n",
      "2000\n",
      "/home/ec2-user/data/OCT2017/train/DRUSEN/DRUSEN-2097858-2.jpeg\n",
      "3000\n",
      "/home/ec2-user/data/OCT2017/train/DRUSEN/DRUSEN-1283307-4.jpeg\n",
      "4000\n",
      "/home/ec2-user/data/OCT2017/train/DRUSEN/DRUSEN-1730592-8.jpeg\n",
      "5000\n",
      "/home/ec2-user/data/OCT2017/train/DRUSEN/DRUSEN-3276918-30.jpeg\n",
      "6000\n",
      "/home/ec2-user/data/OCT2017/train/DRUSEN/DRUSEN-6190971-15.jpeg\n",
      "7000\n",
      "/home/ec2-user/data/OCT2017/train/DRUSEN/DRUSEN-9547888-29.jpeg\n",
      "8000\n",
      "/home/ec2-user/data/OCT2017/train/DRUSEN/DRUSEN-3281144-8.jpeg\n",
      "9000\n",
      "/home/ec2-user/data/OCT2017/train/NORMAL/NORMAL-9362045-1.jpeg\n",
      "10000\n",
      "/home/ec2-user/data/OCT2017/train/NORMAL/NORMAL-5487005-10.jpeg\n",
      "11000\n",
      "/home/ec2-user/data/OCT2017/train/NORMAL/NORMAL-2618426-7.jpeg\n",
      "12000\n",
      "/home/ec2-user/data/OCT2017/train/NORMAL/NORMAL-8999584-3.jpeg\n",
      "13000\n",
      "/home/ec2-user/data/OCT2017/train/NORMAL/NORMAL-2316423-6.jpeg\n",
      "14000\n",
      "/home/ec2-user/data/OCT2017/train/NORMAL/NORMAL-2126962-5.jpeg\n",
      "15000\n",
      "/home/ec2-user/data/OCT2017/train/NORMAL/NORMAL-3694835-28.jpeg\n",
      "16000\n",
      "/home/ec2-user/data/OCT2017/train/NORMAL/NORMAL-7806509-4.jpeg\n",
      "17000\n",
      "/home/ec2-user/data/OCT2017/train/NORMAL/NORMAL-8555962-6.jpeg\n",
      "18000\n",
      "/home/ec2-user/data/OCT2017/train/NORMAL/NORMAL-58358-6.jpeg\n",
      "19000\n",
      "/home/ec2-user/data/OCT2017/train/NORMAL/NORMAL-9490249-27.jpeg\n",
      "20000\n",
      "/home/ec2-user/data/OCT2017/train/NORMAL/NORMAL-3947232-6.jpeg\n",
      "21000\n",
      "/home/ec2-user/data/OCT2017/train/NORMAL/NORMAL-4861832-1.jpeg\n",
      "22000\n",
      "/home/ec2-user/data/OCT2017/train/NORMAL/NORMAL-5023505-1.jpeg\n",
      "23000\n",
      "/home/ec2-user/data/OCT2017/train/NORMAL/NORMAL-2683933-2.jpeg\n",
      "24000\n",
      "/home/ec2-user/data/OCT2017/train/NORMAL/NORMAL-2116022-10.jpeg\n",
      "25000\n",
      "/home/ec2-user/data/OCT2017/train/NORMAL/NORMAL-7304368-7.jpeg\n",
      "26000\n",
      "/home/ec2-user/data/OCT2017/train/NORMAL/NORMAL-1047578-1.jpeg\n",
      "27000\n",
      "/home/ec2-user/data/OCT2017/train/NORMAL/NORMAL-1781140-40.jpeg\n",
      "28000\n",
      "/home/ec2-user/data/OCT2017/train/NORMAL/NORMAL-5500082-7.jpeg\n",
      "29000\n",
      "/home/ec2-user/data/OCT2017/train/NORMAL/NORMAL-672619-7.jpeg\n",
      "30000\n",
      "/home/ec2-user/data/OCT2017/train/NORMAL/NORMAL-7784573-4.jpeg\n",
      "31000\n",
      "/home/ec2-user/data/OCT2017/train/NORMAL/NORMAL-5051198-1.jpeg\n",
      "32000\n",
      "/home/ec2-user/data/OCT2017/train/NORMAL/NORMAL-6418749-1.jpeg\n",
      "33000\n",
      "/home/ec2-user/data/OCT2017/train/NORMAL/NORMAL-4567079-6.jpeg\n",
      "34000\n",
      "/home/ec2-user/data/OCT2017/train/NORMAL/NORMAL-3757443-24.jpeg\n",
      "35000\n",
      "Here\n"
     ]
    }
   ],
   "source": [
    "test_val_split=['test/','train/','val/']\n",
    "disease_dir=['DRUSEN/','NORMAL/']\n",
    "dir_start='/home/ec2-user/data/OCT2017/'\n",
    "count=0\n",
    "temp_list=[]\n",
    "#Loop through the file directory names to get the full directory name\n",
    "for test_dir in test_val_split:\n",
    "    for dis_dir in disease_dir:\n",
    "        for filename in os.listdir(dir_start+test_dir+dis_dir):\n",
    "            image_list=[]\n",
    "            if filename.endswith(\".jpeg\"):\n",
    "                count+=1\n",
    "                if count%1000==0:\n",
    "                    print(dir_start+test_dir+dis_dir+filename)\n",
    "                    print(count)\n",
    "                dict_temp={}\n",
    "                ###Import Image From Directory File\n",
    "                img=cv2.imread(dir_start+test_dir+dis_dir+str(filename),0)\n",
    "                \n",
    "                ## Crop and Resize\n",
    "                img,moments=crop_image(img,thresh=True)\n",
    "                \n",
    "                ## Get Zernike Moments\n",
    "                Zernike_Moments = mahotas.features.zernike_moments(img, radius=2)\n",
    "                \n",
    "                ## Get Horizontal Structure\n",
    "                horiz_count=horiz_structure(img)\n",
    "                \n",
    "                ##Strip backslash from directory name\n",
    "                dis_name=re.sub(dis_regex,'',dis_dir)\n",
    "                \n",
    "                #Add all metrics to a dict, convert dict to a DataFrame\n",
    "                # Add Hu Moments\n",
    "                image_list=cv2.HuMoments(moments).flatten()\n",
    "                image_list=np.append(image_list,horiz_count)\n",
    "                image_list=np.append(image_list,Zernike_Moments)\n",
    "                image_list=tuple(np.append(image_list,dis_name.lower()))\n",
    "                dict_temp={col[i]:image_list[i] for i in range(0,len(col))}\n",
    "                temp_list.append(dict_temp)\n",
    "                continue\n",
    "            else:\n",
    "                continue\n",
    "print(\"Here\")\n",
    "df=pd.DataFrame(temp_list)"
   ]
  },
  {
   "cell_type": "markdown",
   "metadata": {},
   "source": [
    "### Import SQL To AWS"
   ]
  },
  {
   "cell_type": "code",
   "execution_count": 17,
   "metadata": {},
   "outputs": [],
   "source": [
    "df.to_sql('moment_data',con=engine_aws,if_exists='replace')\n"
   ]
  },
  {
   "cell_type": "code",
   "execution_count": null,
   "metadata": {},
   "outputs": [],
   "source": []
  }
 ],
 "metadata": {
  "kernelspec": {
   "display_name": "Python 3",
   "language": "python",
   "name": "python3"
  },
  "language_info": {
   "codemirror_mode": {
    "name": "ipython",
    "version": 3
   },
   "file_extension": ".py",
   "mimetype": "text/x-python",
   "name": "python",
   "nbconvert_exporter": "python",
   "pygments_lexer": "ipython3",
   "version": "3.7.1"
  },
  "toc": {
   "base_numbering": 1,
   "nav_menu": {},
   "number_sections": true,
   "sideBar": true,
   "skip_h1_title": false,
   "title_cell": "Table of Contents",
   "title_sidebar": "Contents",
   "toc_cell": false,
   "toc_position": {},
   "toc_section_display": true,
   "toc_window_display": false
  }
 },
 "nbformat": 4,
 "nbformat_minor": 2
}
